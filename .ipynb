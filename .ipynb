{
 "cells": [
  {
   "cell_type": "code",
   "execution_count": 3,
   "metadata": {},
   "outputs": [],
   "source": [
    "import gym\n",
    "import time\n",
    "from policy import Policy\n",
    "import torch\n",
    "from gym.wrappers.monitoring.video_recorder import VideoRecorder\n",
    "\n",
    "torch.manual_seed(0) # set random seed\n",
    "\n",
    "device = torch.device(\"cuda:0\" if torch.cuda.is_available() else \"cpu\")\n",
    "\n",
    "state_dict = torch.load('checkpoint_train1.pth')\n",
    "\n",
    "policy = Policy()\n",
    "policy.load_state_dict(state_dict)\n",
    "policy = policy.to(device)\n",
    "\n",
    "def show_smart_agent():\n",
    "    env = gym.make('Acrobot-v1')\n",
    "    recorder = VideoRecorder(env, path='./video.mp4', enabled=True)\n",
    "    state = env.reset()\n",
    "\n",
    "    for t in range(5000):\n",
    "        recorder.capture_frame()\n",
    "        action, _ = policy.act(state)\n",
    "        env.render()\n",
    "        state, reward, done, _ = env.step(action)\n",
    "        if done:\n",
    "            break \n",
    "        time.sleep(0.05)\n",
    "\n",
    "    env.close()\n",
    "\n",
    "show_smart_agent()"
   ]
  },
  {
   "cell_type": "code",
   "execution_count": null,
   "metadata": {},
   "outputs": [],
   "source": []
  }
 ],
 "metadata": {
  "kernelspec": {
   "display_name": "Python 3",
   "language": "python",
   "name": "python3"
  },
  "language_info": {
   "codemirror_mode": {
    "name": "ipython",
    "version": 3
   },
   "file_extension": ".py",
   "mimetype": "text/x-python",
   "name": "python",
   "nbconvert_exporter": "python",
   "pygments_lexer": "ipython3",
   "version": "3.9.1"
  }
 },
 "nbformat": 4,
 "nbformat_minor": 4
}
