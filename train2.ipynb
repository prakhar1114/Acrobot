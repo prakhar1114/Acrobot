{
 "cells": [
  {
   "cell_type": "code",
   "execution_count": 1,
   "metadata": {
    "id": "cDGTRhKEICOj"
   },
   "outputs": [],
   "source": [
    "import gym\n",
    "from collections import deque\n",
    "import numpy as np\n",
    "import time\n",
    "\n",
    "import torch\n",
    "torch.manual_seed(0) # set random seed\n",
    "import torch.nn as nn\n",
    "import torch.nn.functional as F\n",
    "import torch.optim as optim\n",
    "from torch.distributions import Categorical\n",
    "from policy import Policy\n",
    "from gym.wrappers.monitoring.video_recorder import VideoRecorder\n",
    "# import tqdm\n",
    "import pdb\n",
    "import matplotlib.pyplot as plt"
   ]
  },
  {
   "cell_type": "code",
   "execution_count": 2,
   "metadata": {
    "colab": {
     "base_uri": "https://localhost:8080/"
    },
    "id": "ldSoGqJLICOy",
    "outputId": "c91c897f-2137-490f-c00c-2a35851a14fa"
   },
   "outputs": [
    {
     "name": "stdout",
     "output_type": "stream",
     "text": [
      "observation space: Box(-28.274333953857422, 28.274333953857422, (6,), float32)\n",
      "action space: Discrete(3)\n"
     ]
    }
   ],
   "source": [
    "env = gym.make('Acrobot-v1')\n",
    "env.seed(0)\n",
    "print('observation space:', env.observation_space)\n",
    "print('action space:', env.action_space)\n",
    "\n",
    "device = torch.device(\"cuda:0\" if torch.cuda.is_available() else \"cpu\")\n",
    "\n",
    "# state_dict = torch.load('checkpoint_train2.pth')\n",
    "\n",
    "# policy = Policy()\n",
    "# policy.load_state_dict(state_dict)\n",
    "# policy = policy.to(device)\n",
    "\n",
    "policy = Policy(s_size=6, h_size=64, a_size=3).to(device)\n",
    "optimizer = optim.Adam(policy.parameters(), lr=0.001)"
   ]
  },
  {
   "cell_type": "code",
   "execution_count": 3,
   "metadata": {
    "colab": {
     "base_uri": "https://localhost:8080/"
    },
    "id": "dT6JxzGjyiZh",
    "outputId": "80449c94-5d1b-4310-ea1b-c01dc030f4ce"
   },
   "outputs": [
    {
     "name": "stdout",
     "output_type": "stream",
     "text": [
      "Policy(\n",
      "  (fc1): Linear(in_features=6, out_features=64, bias=True)\n",
      "  (fc2): Linear(in_features=64, out_features=3, bias=True)\n",
      ")\n"
     ]
    }
   ],
   "source": [
    "\n",
    "print(policy)\n",
    "params = list(policy.parameters())\n",
    "# print(params[0].size(0))  # conv1's .weight\n",
    "adummy=params[0].size(0)\n",
    "print(params)"
   ]
  },
  {
   "cell_type": "code",
   "execution_count": 45,
   "metadata": {
    "id": "yXKYeid8ICO4"
   },
   "outputs": [],
   "source": [
    "def reinforce2(n_episodes=5000, max_t=1000, gamma=1.0, print_every=500):\n",
    "    scores_deque = deque(maxlen=100)\n",
    "    scores = []\n",
    "    for i_episode in range(1, n_episodes+1):\n",
    "        saved_log_probs = []\n",
    "        rewards = []\n",
    "        state = env.reset()\n",
    "        for t in range(max_t):\n",
    "            action, log_prob = policy.act(state)\n",
    "            saved_log_probs.append(log_prob)\n",
    "            state, reward, done, _ = env.step(action)\n",
    "#             env.render()\n",
    "            rewards.append(reward)\n",
    "            if done:\n",
    "                break \n",
    "        scores_deque.append(sum(rewards))\n",
    "        scores.append(sum(rewards))\n",
    "        \n",
    "        discounts = [gamma**i for i in range(len(rewards)+1)]\n",
    "    \n",
    "        G=0\n",
    "        policy_loss=[]\n",
    "        for i in reversed(range(len(saved_log_probs))):\n",
    "            G = G + rewards[i]\n",
    "            policy_loss.append(-saved_log_probs[i] * G)     \n",
    "            \n",
    "        policy_loss = torch.cat(policy_loss).sum()                \n",
    "        optimizer.zero_grad()\n",
    "        policy_loss.backward()\n",
    "        optimizer.step()\n",
    "\n",
    "        \n",
    "        if i_episode % print_every == 0:\n",
    "            torch.save(policy.state_dict(), 'checkpoint_{}.pth'.format(adummy))\n",
    "            print('Episode {}\\tAverage Score: {:.2f}'.format(i_episode, np.mean(scores_deque)))        \n",
    "    return scores"
   ]
  },
  {
   "cell_type": "code",
   "execution_count": 46,
   "metadata": {
    "colab": {
     "base_uri": "https://localhost:8080/",
     "height": 439
    },
    "id": "Z0yfOrhbICO7",
    "outputId": "b4bde8b9-f7b7-4229-8574-cc14fd61fee0"
   },
   "outputs": [
    {
     "name": "stdout",
     "output_type": "stream",
     "text": [
      "Episode 500\tAverage Score: -149.37\n",
      "Episode 1000\tAverage Score: -139.98\n",
      "Episode 1500\tAverage Score: -113.29\n",
      "Episode 2000\tAverage Score: -102.78\n",
      "Episode 2500\tAverage Score: -101.70\n",
      "Episode 3000\tAverage Score: -96.95\n",
      "Episode 3500\tAverage Score: -95.53\n",
      "Episode 4000\tAverage Score: -96.42\n",
      "Episode 4500\tAverage Score: -90.49\n",
      "Episode 5000\tAverage Score: -85.99\n"
     ]
    },
    {
     "data": {
      "image/png": "[encoded data removed]",
      "text/plain": [
       "<Figure size 432x288 with 1 Axes>"
      ]
     },
     "metadata": {
      "needs_background": "light",
      "tags": []
     },
     "output_type": "display_data"
    }
   ],
   "source": [
    "scores=reinforce2()\n",
    "c=np.array([i for i in range(len(scores))])\n",
    "plt.plot(c,scores, label ='total reward vs episode')\n",
    "plt.legend()\n",
    "plt.show()"
   ]
  },
  {
   "cell_type": "code",
   "execution_count": 47,
   "metadata": {
    "colab": {
     "base_uri": "https://localhost:8080/",
     "height": 508
    },
    "id": "yutYv16hICO-",
    "outputId": "ce481b9e-5f80-4a63-c604-5c1f7bc174b8"
   },
   "outputs": [
    {
     "name": "stdout",
     "output_type": "stream",
     "text": [
      "Policy(\n",
      "  (fc1): Linear(in_features=6, out_features=128, bias=True)\n",
      "  (fc2): Linear(in_features=128, out_features=3, bias=True)\n",
      ")\n",
      "Episode 500\tAverage Score: -500.00\n",
      "Episode 1000\tAverage Score: -500.00\n",
      "Episode 1500\tAverage Score: -161.76\n",
      "Episode 2000\tAverage Score: -129.52\n",
      "Episode 2500\tAverage Score: -117.29\n",
      "Episode 3000\tAverage Score: -101.19\n",
      "Episode 3500\tAverage Score: -96.46\n",
      "Episode 4000\tAverage Score: -92.58\n",
      "Episode 4500\tAverage Score: -87.95\n",
      "Episode 5000\tAverage Score: -92.80\n"
     ]
    },
    {
     "data": {
      "image/png": "[encoded data removed]",
      "text/plain": [
       "<Figure size 432x288 with 1 Axes>"
      ]
     },
     "metadata": {
      "needs_background": "light",
      "tags": []
     },
     "output_type": "display_data"
    }
   ],
   "source": [
    "policy = Policy(s_size=6, h_size=128, a_size=3).to(device)\n",
    "optimizer = optim.Adam(policy.parameters(), lr=0.001)\n",
    "\n",
    "print(policy)\n",
    "params = list(policy.parameters())\n",
    "# print(params[0].size(0))  # conv1's .weight\n",
    "adummy=params[0].size(0)\n",
    "\n",
    "scores=reinforce2()\n",
    "c=np.array([i for i in range(len(scores))])\n",
    "plt.plot(c,scores, label ='total reward vs episode')\n",
    "plt.legend()\n",
    "plt.show()"
   ]
  },
  {
   "cell_type": "code",
   "execution_count": 49,
   "metadata": {
    "colab": {
     "base_uri": "https://localhost:8080/",
     "height": 439
    },
    "id": "CWJ7hnXwK67p",
    "outputId": "8c3a10d2-58ad-4634-8122-ff469af807d6"
   },
   "outputs": [
    {
     "name": "stdout",
     "output_type": "stream",
     "text": [
      "Episode 500\tAverage Score: -85.70\n",
      "Episode 1000\tAverage Score: -85.11\n",
      "Episode 1500\tAverage Score: -86.85\n",
      "Episode 2000\tAverage Score: -86.72\n",
      "Episode 2500\tAverage Score: -83.83\n",
      "Episode 3000\tAverage Score: -93.23\n",
      "Episode 3500\tAverage Score: -83.89\n",
      "Episode 4000\tAverage Score: -91.71\n",
      "Episode 4500\tAverage Score: -86.96\n",
      "Episode 5000\tAverage Score: -84.46\n"
     ]
    },
    {
     "data": {
      "image/png": "[encoded data removed]",
      "text/plain": [
       "<Figure size 432x288 with 1 Axes>"
      ]
     },
     "metadata": {
      "needs_background": "light",
      "tags": []
     },
     "output_type": "display_data"
    }
   ],
   "source": [
    "state_dict = torch.load('checkpoint_64.pth')\n",
    "\n",
    "policy = Policy(s_size=6, h_size=64, a_size=3)\n",
    "policy.load_state_dict(state_dict)\n",
    "policy = policy.to(device)\n",
    "optimizer = optim.Adam(policy.parameters(), lr=0.001)\n",
    "\n",
    "scores=reinforce2()\n",
    "c=np.array([i for i in range(len(scores))])\n",
    "plt.plot(c,scores, label ='total reward vs episode')\n",
    "plt.legend()\n",
    "plt.show()"
   ]
  }
 ],
 "metadata": {
  "colab": {
   "collapsed_sections": [],
   "name": "train2.ipynb",
   "provenance": [],
   "toc_visible": true
  },
  "kernelspec": {
   "display_name": "Python 3",
   "language": "python",
   "name": "python3"
  },
  "language_info": {
   "codemirror_mode": {
    "name": "ipython",
    "version": 3
   },
   "file_extension": ".py",
   "mimetype": "text/x-python",
   "name": "python",
   "nbconvert_exporter": "python",
   "pygments_lexer": "ipython3",
   "version": "3.9.1"
  }
 },
 "nbformat": 4,
 "nbformat_minor": 4
}
